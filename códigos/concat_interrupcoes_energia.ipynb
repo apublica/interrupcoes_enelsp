{
 "cells": [
  {
   "cell_type": "code",
   "execution_count": 1,
   "id": "31113d0d",
   "metadata": {
    "collapsed": true
   },
   "outputs": [
    {
     "name": "stderr",
     "output_type": "stream",
     "text": [
      "/var/folders/6w/xt46qnld0fxgc_1r4lj5jktr0000gn/T/ipykernel_37836/1434685606.py:10: FutureWarning: The error_bad_lines argument has been deprecated and will be removed in a future version. Use on_bad_lines in the future.\n",
      "\n",
      "\n",
      "  df22 = pd.read_csv(\"interrupcoes-energia-eletrica-2022.csv\", sep=\";\", encoding=\"latin1\", skipinitialspace=True, error_bad_lines=False)\n",
      "/var/folders/6w/xt46qnld0fxgc_1r4lj5jktr0000gn/T/ipykernel_37836/1434685606.py:10: DtypeWarning: Columns (2,3,4) have mixed types. Specify dtype option on import or set low_memory=False.\n",
      "  df22 = pd.read_csv(\"interrupcoes-energia-eletrica-2022.csv\", sep=\";\", encoding=\"latin1\", skipinitialspace=True, error_bad_lines=False)\n",
      "/var/folders/6w/xt46qnld0fxgc_1r4lj5jktr0000gn/T/ipykernel_37836/1434685606.py:11: FutureWarning: The error_bad_lines argument has been deprecated and will be removed in a future version. Use on_bad_lines in the future.\n",
      "\n",
      "\n",
      "  df23 = pd.read_csv(\"interrupcoes-energia-eletrica-2023.csv\", sep=\";\", encoding=\"latin1\", skipinitialspace=True, error_bad_lines=False)\n",
      "/var/folders/6w/xt46qnld0fxgc_1r4lj5jktr0000gn/T/ipykernel_37836/1434685606.py:11: DtypeWarning: Columns (2,3,4) have mixed types. Specify dtype option on import or set low_memory=False.\n",
      "  df23 = pd.read_csv(\"interrupcoes-energia-eletrica-2023.csv\", sep=\";\", encoding=\"latin1\", skipinitialspace=True, error_bad_lines=False)\n"
     ]
    }
   ],
   "source": [
    "low_memory=False\n",
    "import pandas as pd\n",
    "\n",
    "# Ler os arquivos CSV e armazenar em dataframes\n",
    "#df17 = pd.read_csv(\"interrupcoes-energia-eletrica-2017.csv\", sep=\";\", encoding=\"WINDOWS-1252\", skipinitialspace=True, error_bad_lines=False)\n",
    "#df18 = pd.read_csv(\"interrupcoes-energia-eletrica-2018.csv\", sep=\";\", encoding=\"WINDOWS-1252\", skipinitialspace=True, error_bad_lines=False)\n",
    "#df19 = pd.read_csv(\"interrupcoes-energia-eletrica-2018.csv\", sep=\";\", encoding=\"WINDOWS-1252\", skipinitialspace=True, error_bad_lines=False)\n",
    "#df20 = pd.read_csv(\"interrupcoes-energia-eletrica-2020.csv\", sep=\";\", encoding=\"WINDOWS-1252\", skipinitialspace=True, error_bad_lines=False)\n",
    "#df21 = pd.read_csv(\"interrupcoes-energia-eletrica-2021.csv\", sep=\";\", encoding=\"WINDOWS-1252\", skipinitialspace=True, error_bad_lines=False)\n",
    "df22 = pd.read_csv(\"interrupcoes-energia-eletrica-2022.csv\", sep=\";\", encoding=\"latin1\", skipinitialspace=True, error_bad_lines=False)\n",
    "df23 = pd.read_csv(\"interrupcoes-energia-eletrica-2023.csv\", sep=\";\", encoding=\"latin1\", skipinitialspace=True, error_bad_lines=False)\n",
    "\n",
    "# Concatenar os dataframes\n",
    "#df = pd.concat([df17, df18, df19, df20, df21, df22, df23], ignore_index=True)\n",
    "#df.to_csv(\"dados_aneel.csv\", sep=\";\", encoding=\"utf-8\")\n",
    "# O parâmetro ignore_index recriará os índices para os dataframes concatenados"
   ]
  },
  {
   "cell_type": "code",
   "execution_count": 2,
   "id": "5bac5cf8",
   "metadata": {},
   "outputs": [],
   "source": [
    "df = pd.concat([df22, df23], ignore_index=True)\n",
    "df.to_csv(\"dados_aneel_22_23.csv\", sep=\";\", encoding=\"utf-8\")"
   ]
  },
  {
   "cell_type": "code",
   "execution_count": null,
   "id": "579b9919",
   "metadata": {},
   "outputs": [],
   "source": []
  }
 ],
 "metadata": {
  "kernelspec": {
   "display_name": "Python 3 (ipykernel)",
   "language": "python",
   "name": "python3"
  },
  "language_info": {
   "codemirror_mode": {
    "name": "ipython",
    "version": 3
   },
   "file_extension": ".py",
   "mimetype": "text/x-python",
   "name": "python",
   "nbconvert_exporter": "python",
   "pygments_lexer": "ipython3",
   "version": "3.9.13"
  }
 },
 "nbformat": 4,
 "nbformat_minor": 5
}
